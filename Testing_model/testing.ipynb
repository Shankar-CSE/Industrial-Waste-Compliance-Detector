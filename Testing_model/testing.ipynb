{
 "cells": [
  {
   "cell_type": "code",
   "execution_count": 1,
   "id": "7e4bbaec",
   "metadata": {},
   "outputs": [],
   "source": [
    "# Waste Decomposition Prediction - Jupyter Notebook\n"
   ]
  },
  {
   "cell_type": "code",
   "execution_count": 2,
   "id": "89a20e09",
   "metadata": {},
   "outputs": [],
   "source": [
    "# ♻️ Waste Decomposition Prediction using Trained Model\n",
    "\n",
    "\n",
    "# This notebook demonstrates:\n",
    "# 1. Loading a pre-trained model (`waste_decomposition_model.pkl`)\n",
    "# 2. Loading a test dataset (without target column)\n",
    "# 3. Preprocessing categorical features\n",
    "# 4. Making predictions\n",
    "# 5. Saving results to CSV\n",
    "# 6. Evaluating accuracy if ground truth labels are available\n"
   ]
  },
  {
   "cell_type": "code",
   "execution_count": 3,
   "id": "277fb142",
   "metadata": {},
   "outputs": [],
   "source": [
    "# 📦 Import Required Libraries\n",
    "import pandas as pd\n",
    "import joblib\n",
    "from sklearn.preprocessing import LabelEncoder\n",
    "from sklearn.metrics import accuracy_score\n"
   ]
  },
  {
   "cell_type": "code",
   "execution_count": 4,
   "id": "d4eae9d1",
   "metadata": {},
   "outputs": [],
   "source": [
    "## 1️⃣ Load Trained Model\n",
    "# We will load the pre-trained model from the pickle file.\n"
   ]
  },
  {
   "cell_type": "code",
   "execution_count": 5,
   "id": "5074da59",
   "metadata": {},
   "outputs": [
    {
     "name": "stdout",
     "output_type": "stream",
     "text": [
      "✅ Model loaded successfully\n"
     ]
    }
   ],
   "source": [
    "# Load trained model\n",
    "model = joblib.load(\"../Training_model/waste_decomposition_model.pkl\")\n",
    "print(\"✅ Model loaded successfully\")\n"
   ]
  },
  {
   "cell_type": "code",
   "execution_count": 6,
   "id": "eb8f6f79",
   "metadata": {},
   "outputs": [],
   "source": [
    "## 2️⃣ Load Test Dataset\n",
    "# - `waste_decomposition_without_target.csv` → dataset without target column  \n",
    "# - `waste_decomposition_with_target.csv` → dataset with target column (for accuracy checking)\n"
   ]
  },
  {
   "cell_type": "code",
   "execution_count": 7,
   "id": "be219745",
   "metadata": {},
   "outputs": [
    {
     "name": "stdout",
     "output_type": "stream",
     "text": [
      "📂 Ground truth labels loaded successfully\n"
     ]
    }
   ],
   "source": [
    "# Load test dataset (without target column)\n",
    "df_test = pd.read_csv(\"waste_decomposition_without_target.csv\")\n",
    "\n",
    "# Keep a copy of original for later saving\n",
    "df_original = df_test.copy()\n",
    "\n",
    "# Try loading ground truth (if available)\n",
    "try:\n",
    "    y_true = pd.read_csv(\"waste_decomposition_with_target.csv\")[\"Perfect_Waste_Decomposition_System\"]\n",
    "    print(\"📂 Ground truth labels loaded successfully\")\n",
    "except:\n",
    "    y_true = None\n",
    "    print(\"⚠️ No ground truth labels found → Accuracy cannot be calculated\")\n"
   ]
  },
  {
   "cell_type": "code",
   "execution_count": 8,
   "id": "bb46bed6",
   "metadata": {},
   "outputs": [],
   "source": [
    "## 3️⃣ Preprocess Test Data\n",
    "# - Drop `Company_ID` (not useful for prediction)  \n",
    "# - Encode categorical columns using `LabelEncoder`\n"
   ]
  },
  {
   "cell_type": "code",
   "execution_count": 9,
   "id": "49309619",
   "metadata": {},
   "outputs": [
    {
     "name": "stdout",
     "output_type": "stream",
     "text": [
      "✅ Data preprocessing completed\n"
     ]
    }
   ],
   "source": [
    "# Drop ID column\n",
    "X_test = df_test.drop([\"Company_ID\"], axis=1)\n",
    "\n",
    "# Encode categorical features\n",
    "categorical_cols = X_test.select_dtypes(include=[\"object\"]).columns\n",
    "encoder = LabelEncoder()\n",
    "\n",
    "for col in categorical_cols:\n",
    "    X_test[col] = encoder.fit_transform(X_test[col])\n",
    "\n",
    "print(\"✅ Data preprocessing completed\")\n"
   ]
  },
  {
   "cell_type": "code",
   "execution_count": 10,
   "id": "d3d732cf",
   "metadata": {},
   "outputs": [
    {
     "name": "stdout",
     "output_type": "stream",
     "text": [
      "✅ Predictions completed\n"
     ]
    }
   ],
   "source": [
    "## 4️⃣ Make Predictions\n",
    "# We use the trained model to predict the target variable.\n",
    "\n",
    "\n",
    "# Predict\n",
    "y_pred = model.predict(X_test)\n",
    "print(\"✅ Predictions completed\")\n"
   ]
  },
  {
   "cell_type": "code",
   "execution_count": 11,
   "id": "4dd5a443",
   "metadata": {},
   "outputs": [
    {
     "name": "stdout",
     "output_type": "stream",
     "text": [
      "💾 Predictions saved to `test_predictions.csv`\n"
     ]
    }
   ],
   "source": [
    "## 5️⃣ Save Predictions\n",
    "# We will save predictions into a new CSV file:  \n",
    "# **`test_predictions.csv`**\n",
    "\n",
    "\n",
    "# Save predictions with original data\n",
    "df_original[\"Predicted_Perfect_Waste_Decomposition_System\"] = y_pred\n",
    "df_original.to_csv(\"test_predictions.csv\", index=False)\n",
    "\n",
    "print(\"💾 Predictions saved to `test_predictions.csv`\")\n"
   ]
  },
  {
   "cell_type": "code",
   "execution_count": 12,
   "id": "75b4648f",
   "metadata": {},
   "outputs": [
    {
     "name": "stdout",
     "output_type": "stream",
     "text": [
      "🎯 Testing Accuracy: 97.0 %\n"
     ]
    }
   ],
   "source": [
    "## 6️⃣ Evaluate Model Accuracy (if labels available)\n",
    "# If the ground truth dataset exists, compute the accuracy score.\n",
    "\n",
    "\n",
    "if y_true is not None:\n",
    "    acc = accuracy_score(y_true, y_pred)\n",
    "    print(\"🎯 Testing Accuracy:\", round(acc * 100, 2), \"%\")\n",
    "else:\n",
    "    print(\"⚠️ Accuracy cannot be calculated (no ground truth available)\")\n"
   ]
  },
  {
   "cell_type": "code",
   "execution_count": null,
   "id": "3e0c4915",
   "metadata": {},
   "outputs": [],
   "source": []
  }
 ],
 "metadata": {
  "kernelspec": {
   "display_name": ".venv",
   "language": "python",
   "name": "python3"
  },
  "language_info": {
   "codemirror_mode": {
    "name": "ipython",
    "version": 3
   },
   "file_extension": ".py",
   "mimetype": "text/x-python",
   "name": "python",
   "nbconvert_exporter": "python",
   "pygments_lexer": "ipython3",
   "version": "3.11.6"
  }
 },
 "nbformat": 4,
 "nbformat_minor": 5
}

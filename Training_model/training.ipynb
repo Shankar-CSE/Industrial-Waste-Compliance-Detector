{
 "cells": [
  {
   "cell_type": "markdown",
   "id": "7aa0bfbf",
   "metadata": {},
   "source": [
    "#️⃣ CELL 1: 📘 Title + Overview (Markdown)\n",
    "\"\"\"\n",
    "# 🤖 Industrial Waste Compliance - Stacking Classifier Training\n",
    "\n",
    "This notebook performs:\n",
    "1. Data Loading & Preparation  \n",
    "2. Feature Scaling & PCA  \n",
    "3. Model Training (Stacking Classifier)  \n",
    "4. Evaluation with Visualizations  \n",
    "5. Scatter Plots for PCA and Prediction Insights 🎨\n",
    "\n",
    "Let's dive in! 🚀\n",
    "\"\"\"\n"
   ]
  },
  {
   "cell_type": "code",
   "execution_count": null,
   "id": "a53e7cc7",
   "metadata": {},
   "outputs": [],
   "source": [
    "#️⃣ CELL 2: 🧩 Import Libraries\n",
    "\n",
    "import pandas as pd\n",
    "from sklearn.model_selection import train_test_split\n",
    "from sklearn.preprocessing import StandardScaler\n",
    "from sklearn.decomposition import PCA\n",
    "from sklearn.ensemble import RandomForestClassifier, StackingClassifier\n",
    "from sklearn.tree import DecisionTreeClassifier\n",
    "from sklearn.neighbors import KNeighborsClassifier\n",
    "from sklearn.naive_bayes import GaussianNB\n",
    "from sklearn.linear_model import LogisticRegression\n",
    "from sklearn.metrics import accuracy_score, precision_score, recall_score, f1_score, classification_report, confusion_matrix\n",
    "import joblib\n",
    "import os\n",
    "import seaborn as sns\n",
    "import matplotlib.pyplot as plt\n",
    "\n",
    "# Aesthetic setup\n",
    "sns.set(style=\"whitegrid\", palette=\"cool\")\n",
    "plt.rcParams[\"figure.figsize\"] = (8, 5)\n"
   ]
  },
  {
   "cell_type": "code",
   "execution_count": null,
   "id": "434a40e6",
   "metadata": {},
   "outputs": [],
   "source": [
    "#️⃣ CELL 3: 📂 Load Dataset\n",
    "\n",
    "os.makedirs(\"./models\", exist_ok=True)\n",
    "\n",
    "df = pd.read_csv(\"../data/cleaned_compliance_data.csv\")\n",
    "target_col = \"Perfect_Waste_Decomposition_System\"\n",
    "\n",
    "X = df.drop(columns=[target_col])\n",
    "y = df[target_col]\n",
    "\n",
    "# Save feature columns for reuse\n",
    "feature_columns = X.columns.tolist()\n",
    "joblib.dump(feature_columns, '../models/feature_columns.pkl')\n",
    "\n",
    "print(f\"✅ Dataset Loaded: {df.shape[0]} rows × {df.shape[1]} columns\")\n",
    "display(df.head())\n"
   ]
  },
  {
   "cell_type": "code",
   "execution_count": null,
   "id": "b7d38e06",
   "metadata": {},
   "outputs": [],
   "source": [
    "#️⃣ CELL 4: ✂️ Train-Test Split\n",
    "\n",
    "X_train, X_test, y_train, y_test = train_test_split(\n",
    "    X, y, test_size=0.2, random_state=42, shuffle=True\n",
    ")\n",
    "\n",
    "print(\"🔹 Training set shape:\", X_train.shape)\n",
    "print(\"🔸 Testing set shape:\", X_test.shape)\n"
   ]
  },
  {
   "cell_type": "code",
   "execution_count": null,
   "id": "5fbb4b12",
   "metadata": {},
   "outputs": [],
   "source": [
    "#️⃣ CELL 5: ⚖️ Feature Scaling\n",
    "\n",
    "scaler = StandardScaler()\n",
    "X_train_scaled = scaler.fit_transform(X_train)\n",
    "X_test_scaled = scaler.transform(X_test)\n",
    "\n",
    "joblib.dump(scaler, \"../models/scaler.pkl\")\n",
    "print(\"✅ Scaler saved successfully!\")\n"
   ]
  },
  {
   "cell_type": "code",
   "execution_count": null,
   "id": "f1f835a1",
   "metadata": {},
   "outputs": [],
   "source": [
    "#️⃣ CELL 6: 🧠 PCA (Keep 95% Variance)\n",
    "\n",
    "pca = PCA(n_components=0.95, random_state=42)\n",
    "X_train_pca = pca.fit_transform(X_train_scaled)\n",
    "X_test_pca = pca.transform(X_test_scaled)\n",
    "joblib.dump(pca, \"../models/pca.pkl\")\n",
    "\n",
    "print(f\"✅ PCA Applied: Reduced from {X_train.shape[1]} → {X_train_pca.shape[1]} components\")\n"
   ]
  },
  {
   "cell_type": "code",
   "execution_count": null,
   "id": "66d26f4d",
   "metadata": {},
   "outputs": [],
   "source": [
    "#️⃣ CELL 7: 🎨 PCA Scatter Visualization (2 Components)\n",
    "\n",
    "if X_train_pca.shape[1] >= 2:\n",
    "    plt.figure(figsize=(8,6))\n",
    "    sns.scatterplot(\n",
    "        x=X_train_pca[:, 0], \n",
    "        y=X_train_pca[:, 1],\n",
    "        hue=y_train,\n",
    "        palette=\"cool\",\n",
    "        alpha=0.7,\n",
    "        edgecolor=\"k\"\n",
    "    )\n",
    "    plt.title(\"🔹 PCA Feature Space (First 2 Components)\")\n",
    "    plt.xlabel(\"PCA 1\")\n",
    "    plt.ylabel(\"PCA 2\")\n",
    "    plt.legend(title=\"Target\")\n",
    "    plt.show()\n",
    "else:\n",
    "    print(\"⚠️ Not enough PCA components for scatter visualization.\")\n"
   ]
  },
  {
   "cell_type": "code",
   "execution_count": null,
   "id": "e432359a",
   "metadata": {},
   "outputs": [],
   "source": [
    "#️⃣ CELL 8: ⚙️ Define Models for Stacking\n",
    "\n",
    "base_models = [\n",
    "    ('rf', RandomForestClassifier(n_estimators=100, random_state=42)),\n",
    "    ('dt', DecisionTreeClassifier(random_state=42)),\n",
    "    ('knn', KNeighborsClassifier(n_neighbors=5)),\n",
    "    ('nb', GaussianNB())\n",
    "]\n",
    "\n",
    "meta_model = LogisticRegression(max_iter=1000, random_state=42)\n",
    "\n",
    "stack_model = StackingClassifier(\n",
    "    estimators=base_models,\n",
    "    final_estimator=meta_model,\n",
    "    cv=5,\n",
    "    n_jobs=-1\n",
    ")\n",
    "\n",
    "print(\"✅ Base and Meta Models Defined Successfully!\")\n"
   ]
  },
  {
   "cell_type": "code",
   "execution_count": null,
   "id": "72151c65",
   "metadata": {},
   "outputs": [],
   "source": [
    "#️⃣ CELL 9: 🧩 Train the Stacking Model\n",
    "\n",
    "stack_model.fit(X_train_scaled, y_train)\n",
    "print(\"🏋️‍♂️ Training Completed!\")\n",
    "\n",
    "# Save trained model\n",
    "joblib.dump(stack_model, \"../models/stack_model.pkl\")\n",
    "print(\"✅ Model saved at: ../models/stack_model.pkl\")\n"
   ]
  },
  {
   "cell_type": "code",
   "execution_count": null,
   "id": "6e9cab95",
   "metadata": {},
   "outputs": [],
   "source": [
    "#️⃣ CELL 10: 📊 Evaluate Model Performance\n",
    "\n",
    "y_pred = stack_model.predict(X_test_scaled)\n",
    "\n",
    "print(\"🏆 **Stacking Model Performance (Scaled Data)**\")\n",
    "print(\"Accuracy:\", round(accuracy_score(y_test, y_pred), 3))\n",
    "print(\"\\n📋 Classification Report:\\n\", classification_report(y_test, y_pred, zero_division=0))\n",
    "\n",
    "# Confusion matrix\n",
    "cm = confusion_matrix(y_test, y_pred)\n",
    "plt.figure(figsize=(6,4))\n",
    "sns.heatmap(cm, annot=True, fmt='d', cmap=\"Blues\", cbar=False)\n",
    "plt.title(\"Confusion Matrix - Stacking Model\")\n",
    "plt.xlabel(\"Predicted\")\n",
    "plt.ylabel(\"Actual\")\n",
    "plt.show()\n"
   ]
  },
  {
   "cell_type": "code",
   "execution_count": null,
   "id": "09dbc8a7",
   "metadata": {},
   "outputs": [],
   "source": [
    "#️⃣ CELL 11: 🌈 Scatter Plot - Prediction Results (True vs Predicted)\n",
    "\n",
    "# Use PCA for 2D visualization\n",
    "if X_test_pca.shape[1] >= 2:\n",
    "    plt.figure(figsize=(8,6))\n",
    "    sns.scatterplot(\n",
    "        x=X_test_pca[:,0], \n",
    "        y=X_test_pca[:,1],\n",
    "        hue=y_pred,\n",
    "        style=y_test,\n",
    "        palette=\"viridis\",\n",
    "        alpha=0.8\n",
    "    )\n",
    "    plt.title(\"🧩 Model Predictions in PCA Space\")\n",
    "    plt.xlabel(\"PCA 1\")\n",
    "    plt.ylabel(\"PCA 2\")\n",
    "    plt.legend(title=\"Predicted Label\")\n",
    "    plt.show()\n"
   ]
  },
  {
   "cell_type": "code",
   "execution_count": null,
   "id": "8d86f2e4",
   "metadata": {},
   "outputs": [],
   "source": [
    "#️⃣ CELL 12: 🔥 Base Models Comparison\n",
    "\n",
    "results = []\n",
    "for name, model in base_models:\n",
    "    model.fit(X_train_scaled, y_train)\n",
    "    y_pred_base = model.predict(X_test_scaled)\n",
    "    results.append({\n",
    "        \"Model\": name.upper(),\n",
    "        \"Accuracy\": accuracy_score(y_test, y_pred_base),\n",
    "        \"Precision\": precision_score(y_test, y_pred_base, zero_division=0),\n",
    "        \"Recall\": recall_score(y_test, y_pred_base, zero_division=0),\n",
    "        \"F1-Score\": f1_score(y_test, y_pred_base, zero_division=0)\n",
    "    })\n",
    "\n",
    "results_df = pd.DataFrame(results).sort_values(by=\"F1-Score\", ascending=False)\n",
    "display(results_df)\n"
   ]
  },
  {
   "cell_type": "code",
   "execution_count": null,
   "id": "9aed71b2",
   "metadata": {},
   "outputs": [],
   "source": [
    "#️⃣ CELL 13: 📈 Visualization - Base Models Performance\n",
    "\n",
    "plt.figure(figsize=(10, 6))\n",
    "sns.heatmap(results_df.set_index(\"Model\"), annot=True, fmt=\".2f\", cmap=\"YlGnBu\")\n",
    "plt.title(\"📊 Base Models Performance Comparison\")\n",
    "plt.ylabel(\"Model\")\n",
    "plt.show()\n",
    "\n",
    "# Bar chart\n",
    "plt.figure(figsize=(8,5))\n",
    "sns.barplot(x=\"Model\", y=\"Accuracy\", data=results_df, palette=\"cool\")\n",
    "plt.title(\"Model Accuracy Comparison\")\n",
    "plt.ylim(0, 1)\n",
    "plt.show()\n"
   ]
  },
  {
   "cell_type": "markdown",
   "id": "fd447210",
   "metadata": {},
   "source": [
    "#️⃣ CELL 14: ✅ Final Summary (Markdown)\n",
    "\"\"\"\n",
    "# ✅ Summary\n",
    "\n",
    "- Dataset cleaned and standardized with **StandardScaler**  \n",
    "- **PCA** reduced dimensionality to capture 95% variance  \n",
    "- Built an ensemble **Stacking Classifier** with:\n",
    "  - Random Forest 🌲\n",
    "  - Decision Tree 🌳\n",
    "  - KNN 👥\n",
    "  - Naive Bayes 📈  \n",
    "  - Logistic Regression ⚙️ (meta model)\n",
    "- Visualized:\n",
    "  - PCA space before training  \n",
    "  - Prediction scatter in PCA 2D  \n",
    "  - Confusion matrix  \n",
    "  - Base model heatmap and accuracy chart  \n",
    "\n",
    "🎯 Final trained model saved: `../models/stack_model.pkl`\n",
    "\"\"\"\n"
   ]
  },
  {
   "cell_type": "code",
   "execution_count": null,
   "id": "6b41b21d",
   "metadata": {},
   "outputs": [],
   "source": []
  }
 ],
 "metadata": {
  "kernelspec": {
   "display_name": "Python 3",
   "language": "python",
   "name": "python3"
  },
  "language_info": {
   "codemirror_mode": {
    "name": "ipython",
    "version": 3
   },
   "file_extension": ".py",
   "mimetype": "text/x-python",
   "name": "python",
   "nbconvert_exporter": "python",
   "pygments_lexer": "ipython3",
   "version": "3.11.6"
  }
 },
 "nbformat": 4,
 "nbformat_minor": 5
}

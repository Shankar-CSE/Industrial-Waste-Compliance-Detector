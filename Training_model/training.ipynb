{
 "cells": [
  {
   "cell_type": "code",
   "execution_count": null,
   "id": "647139cb",
   "metadata": {},
   "outputs": [],
   "source": [
    "import pandas as pd\n",
    "from sklearn.ensemble import RandomForestClassifier\n",
    "from sklearn.tree import DecisionTreeClassifier\n",
    "from sklearn.neighbors import KNeighborsClassifier\n",
    "from sklearn.naive_bayes import GaussianNB\n",
    "from sklearn.linear_model import LogisticRegression  # keep if needed\n",
    "from sklearn.metrics import accuracy_score, precision_score, recall_score, f1_score, classification_report\n",
    "from sklearn.model_selection import train_test_split\n",
    "from sklearn.preprocessing import StandardScaler\n",
    "from sklearn.decomposition import PCA\n",
    "import joblib\n",
    "import os"
   ]
  },
  {
   "cell_type": "code",
   "execution_count": null,
   "id": "a53e7cc7",
   "metadata": {},
   "outputs": [],
   "source": [
    "df = pd.read_csv(\"../data/cleaned_compliance_data.csv\")\n",
    "\n",
    "# -------------------------\n",
    "# 2️⃣ Split into features & target\n",
    "# -------------------------\n",
    "target_col = \"Perfect_Waste_Decomposition_System\"\n",
    "X = df.drop(columns=[target_col])\n",
    "y = df[target_col]\n",
    "\n",
    "# Train-test split (80-20)\n",
    "X_train, X_test, y_train, y_test = train_test_split(X, y, test_size=0.2, random_state=42)\n",
    "\n",
    "\n",
    "scaler = StandardScaler()\n",
    "X_train_scaled = scaler.fit_transform(X_train)\n",
    "X_test_scaled = scaler.transform(X_test)\n",
    "\n",
    "joblib.dump(scaler, '../models/scaler.pkl')\n",
    "\n",
    "\n",
    "# 2. Apply PCA (as in your original code)\n",
    "pca = PCA(n_components=0.95) # Retain 95% of variance\n",
    "X_train_pca = pca.fit_transform(X_train_scaled)\n",
    "X_test_pca = pca.transform(X_test_scaled)\n",
    "# --- End of Mock Data Setup ---\n"
   ]
  },
  {
   "cell_type": "code",
   "execution_count": null,
   "id": "434a40e6",
   "metadata": {},
   "outputs": [],
   "source": [
    "# Define your models dictionary\n",
    "models = {\n",
    "    \"Random Forest\": RandomForestClassifier(n_estimators=100, random_state=42),\n",
    "    \"Decision Tree\": DecisionTreeClassifier(random_state=42),\n",
    "    \"K-Nearest Neighbors\": KNeighborsClassifier(n_neighbors=5),\n",
    "    \"Naive Bayes\": GaussianNB()\n",
    "}"
   ]
  },
  {
   "cell_type": "code",
   "execution_count": null,
   "id": "b7d38e06",
   "metadata": {},
   "outputs": [],
   "source": [
    "results = []\n",
    "\n",
    "for name, model in models.items():\n",
    "    # Using PCA data for this part\n",
    "    model.fit(X_train_pca, y_train)\n",
    "    y_pred = model.predict(X_test_pca)\n",
    "    \n",
    "    results.append({\n",
    "        \"Model\": name,\n",
    "        \"Accuracy\": accuracy_score(y_test, y_pred),\n",
    "        \"Precision\": precision_score(y_test, y_pred, zero_division=0),\n",
    "        \"Recall\": recall_score(y_test, y_pred, zero_division=0),\n",
    "        \"F1-Score\": f1_score(y_test, y_pred, zero_division=0)\n",
    "    })"
   ]
  },
  {
   "cell_type": "code",
   "execution_count": null,
   "id": "5fbb4b12",
   "metadata": {},
   "outputs": [],
   "source": []
  },
  {
   "cell_type": "code",
   "execution_count": null,
   "id": "f1f835a1",
   "metadata": {},
   "outputs": [],
   "source": []
  },
  {
   "cell_type": "code",
   "execution_count": null,
   "id": "66d26f4d",
   "metadata": {},
   "outputs": [],
   "source": [
    "# Convert results to DataFrame for easy comparison\n",
    "results_df = pd.DataFrame(results).sort_values(by=\"F1-Score\", ascending=False)\n",
    "print(\"Model Performance on PCA Data:\")\n",
    "print(results_df)\n",
    "\n",
    "best_model_name = results_df.iloc[0][\"Model\"]\n",
    "best_model_pca = models[best_model_name]\n",
    "print(f\"\\n🏆 Best Model (from PCA data): {best_model_name}\")\n",
    "\n",
    "# Create directory if it doesn't exist\n",
    "if not os.path.exists(\"../models\"):\n",
    "    os.makedirs(\"../models\")\n",
    "    \n",
    "joblib.dump(best_model_pca, \"../models/waste_compliance_pca_model.pkl\")\n",
    "print(\"✅ Best model (from PCA) saved: waste_compliance_pca_model.pkl\")"
   ]
  },
  {
   "cell_type": "code",
   "execution_count": null,
   "id": "e432359a",
   "metadata": {},
   "outputs": [],
   "source": [
    "import seaborn as sns\n",
    "import matplotlib.pyplot as plt\n",
    "\n",
    "# Set the index to model names and drop the 'Model' column\n",
    "heatmap_df = results_df.set_index(\"Model\")\n",
    "\n",
    "# Create a heatmap\n",
    "plt.figure(figsize=(10, 6))\n",
    "sns.heatmap(heatmap_df, annot=True, fmt=\".2f\", cmap=\"YlGnBu\", cbar=True)\n",
    "plt.title(\"Model Performance Heatmap\")\n",
    "plt.ylabel(\"Model\")\n",
    "plt.xlabel(\"Metric\")\n",
    "plt.show()\n"
   ]
  },
  {
   "cell_type": "code",
   "execution_count": null,
   "id": "72151c65",
   "metadata": {},
   "outputs": [],
   "source": [
    "best_model_scaled = models[best_model_name]\n",
    "\n",
    "# 2. Train this new model instance on the scaled (non-PCA) data\n",
    "print(f\"\\nTraining {best_model_name} on the scaled dataset...\")\n",
    "best_model_scaled.fit(X_train_scaled, y_train)\n",
    "print(\"✅ Training complete.\")"
   ]
  },
  {
   "cell_type": "code",
   "execution_count": null,
   "id": "6e9cab95",
   "metadata": {},
   "outputs": [],
   "source": [
    "# 3. Evaluate the model on the scaled test data to see its performance\n",
    "print(\"\\nEvaluating the new model on the scaled test set...\")\n",
    "y_pred_scaled = best_model_scaled.predict(X_test_scaled)\n",
    "\n",
    "print(\"\\nClassification Report (Scaled Data):\")\n",
    "# print(classification_report(y_test, y_pred_scaled, zero_division=0))\n",
    "\n",
    "# 4. Save the model trained on scaled data to a new file\n",
    "joblib.dump(best_model_scaled, \"../models/model.pkl\")\n",
    "print(\"✅ Best model (trained on scaled data) saved: wastbe_compliance_scaled_model.pkl\")"
   ]
  },
  {
   "cell_type": "code",
   "execution_count": null,
   "id": "09dbc8a7",
   "metadata": {},
   "outputs": [],
   "source": [
    "# Load the saved model and scaler to test them\n",
    "loaded_model = joblib.load('../models/model.pkl')\n",
    "loaded_scaler = joblib.load('../models/scaler.pkl')\n",
    "\n",
    "# Scale the test data with the loaded scaler\n",
    "X_test_scaled_again = loaded_scaler.transform(X_test)\n",
    "\n",
    "# Make predictions with the loaded model\n",
    "y_pred = loaded_model.predict(X_test_scaled_again)\n",
    "\n",
    "# Check the accuracy\n",
    "accuracy = accuracy_score(y_test, y_pred)\n",
    "# print(f\"Model Accuracy on Test Set: {accuracy:.4f}\")"
   ]
  },
  {
   "cell_type": "code",
   "execution_count": null,
   "id": "6b41b21d",
   "metadata": {},
   "outputs": [],
   "source": []
  }
 ],
 "metadata": {
  "kernelspec": {
   "display_name": "Python 3",
   "language": "python",
   "name": "python3"
  },
  "language_info": {
   "codemirror_mode": {
    "name": "ipython",
    "version": 3
   },
   "file_extension": ".py",
   "mimetype": "text/x-python",
   "name": "python",
   "nbconvert_exporter": "python",
   "pygments_lexer": "ipython3",
   "version": "3.11.6"
  }
 },
 "nbformat": 4,
 "nbformat_minor": 5
}
